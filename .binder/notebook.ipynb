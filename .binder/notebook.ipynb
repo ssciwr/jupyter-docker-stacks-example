{
 "cells": [
  {
   "cell_type": "markdown",
   "id": "977392cf-65d6-472b-bae9-560794078b43",
   "metadata": {},
   "source": [
    "# Hello World with Jupyter Docker stacks"
   ]
  },
  {
   "cell_type": "code",
   "execution_count": null,
   "id": "17eb77db-9c4d-4db1-bc71-517e4d26df44",
   "metadata": {},
   "outputs": [],
   "source": [
    "with open(\"data.txt\", \"r\") as f:\n",
    "    message = f.read()"
   ]
  },
  {
   "cell_type": "code",
   "execution_count": null,
   "id": "2ec78a84-33bf-48e9-8657-944b9050ed4a",
   "metadata": {},
   "outputs": [],
   "source": [
    "print(message)"
   ]
  },
  {
   "cell_type": "code",
   "execution_count": null,
   "id": "c01d714a-abfc-4a90-8a49-257dd6acc2b6",
   "metadata": {},
   "outputs": [],
   "source": []
  }
 ],
 "metadata": {
  "kernelspec": {
   "display_name": "Python 3 (ipykernel)",
   "language": "python",
   "name": "python3"
  },
  "language_info": {
   "codemirror_mode": {
    "name": "ipython",
    "version": 3
   },
   "file_extension": ".py",
   "mimetype": "text/x-python",
   "name": "python",
   "nbconvert_exporter": "python",
   "pygments_lexer": "ipython3",
   "version": "3.9.7"
  }
 },
 "nbformat": 4,
 "nbformat_minor": 5
}
